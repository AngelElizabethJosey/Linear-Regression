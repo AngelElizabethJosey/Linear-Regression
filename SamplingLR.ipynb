{
  "nbformat": 4,
  "nbformat_minor": 0,
  "metadata": {
    "colab": {
      "provenance": [],
      "authorship_tag": "ABX9TyNcVxFP1nux5WXx5TBAQSEU",
      "include_colab_link": true
    },
    "kernelspec": {
      "name": "python3",
      "display_name": "Python 3"
    },
    "language_info": {
      "name": "python"
    }
  },
  "cells": [
    {
      "cell_type": "markdown",
      "metadata": {
        "id": "view-in-github",
        "colab_type": "text"
      },
      "source": [
        "<a href=\"https://colab.research.google.com/github/AngelElizabethJosey/Linear-Regression/blob/main/SamplingLR.ipynb\" target=\"_parent\"><img src=\"https://colab.research.google.com/assets/colab-badge.svg\" alt=\"Open In Colab\"/></a>"
      ]
    },
    {
      "cell_type": "code",
      "execution_count": 1,
      "metadata": {
        "id": "SJrP5p43PSqH"
      },
      "outputs": [],
      "source": [
        "import numpy as np\n",
        "import matplotlib.pyplot as plt\n",
        "import pandas as pd"
      ]
    },
    {
      "cell_type": "code",
      "source": [
        "ds= pd.read_csv('TSLA.csv')"
      ],
      "metadata": {
        "id": "IjB9xRg-Pjoa"
      },
      "execution_count": 2,
      "outputs": []
    },
    {
      "cell_type": "code",
      "source": [
        "x_questionbank=ds.iloc[0:200, 0:1].values\n",
        "print(x_questionbank)"
      ],
      "metadata": {
        "colab": {
          "base_uri": "https://localhost:8080/"
        },
        "id": "7voXUkrwPutI",
        "outputId": "d3114913-82ff-43bf-a0f8-df6d2e3c36a6"
      },
      "execution_count": 13,
      "outputs": [
        {
          "output_type": "stream",
          "name": "stdout",
          "text": [
            "[[  1.]\n",
            " [  2.]\n",
            " [  3.]\n",
            " [  4.]\n",
            " [  5.]\n",
            " [  6.]\n",
            " [  7.]\n",
            " [  8.]\n",
            " [  9.]\n",
            " [ 10.]\n",
            " [ 11.]\n",
            " [ 12.]\n",
            " [ 13.]\n",
            " [ 14.]\n",
            " [ 15.]\n",
            " [ 16.]\n",
            " [ 17.]\n",
            " [ 18.]\n",
            " [ 19.]\n",
            " [ 20.]\n",
            " [ 21.]\n",
            " [ 22.]\n",
            " [ 23.]\n",
            " [ 24.]\n",
            " [ 25.]\n",
            " [ 26.]\n",
            " [ 27.]\n",
            " [ 28.]\n",
            " [ 29.]\n",
            " [ 30.]\n",
            " [ 31.]\n",
            " [ 32.]\n",
            " [ 33.]\n",
            " [ 34.]\n",
            " [ 35.]\n",
            " [ 36.]\n",
            " [ 37.]\n",
            " [ 38.]\n",
            " [ 39.]\n",
            " [ 40.]\n",
            " [ 41.]\n",
            " [ 42.]\n",
            " [ 43.]\n",
            " [ 44.]\n",
            " [ 45.]\n",
            " [ 46.]\n",
            " [ 47.]\n",
            " [ 48.]\n",
            " [ 49.]\n",
            " [ 50.]\n",
            " [ 51.]\n",
            " [ 52.]\n",
            " [ 53.]\n",
            " [ 54.]\n",
            " [ 55.]\n",
            " [ 56.]\n",
            " [ 57.]\n",
            " [ 58.]\n",
            " [ 59.]\n",
            " [ 60.]\n",
            " [ 61.]\n",
            " [ 62.]\n",
            " [ 63.]\n",
            " [ 64.]\n",
            " [ 65.]\n",
            " [ 66.]\n",
            " [ 67.]\n",
            " [ 68.]\n",
            " [ 69.]\n",
            " [ 70.]\n",
            " [ 71.]\n",
            " [ 72.]\n",
            " [ 73.]\n",
            " [ 74.]\n",
            " [ 75.]\n",
            " [ 76.]\n",
            " [ 77.]\n",
            " [ 78.]\n",
            " [ 79.]\n",
            " [ 80.]\n",
            " [ 81.]\n",
            " [ 82.]\n",
            " [ 83.]\n",
            " [ 84.]\n",
            " [ 85.]\n",
            " [ 86.]\n",
            " [ 87.]\n",
            " [ 88.]\n",
            " [ 89.]\n",
            " [ 90.]\n",
            " [ 91.]\n",
            " [ 92.]\n",
            " [ 93.]\n",
            " [ 94.]\n",
            " [ 95.]\n",
            " [ 96.]\n",
            " [ 97.]\n",
            " [ 98.]\n",
            " [ 99.]\n",
            " [100.]\n",
            " [101.]\n",
            " [102.]\n",
            " [103.]\n",
            " [104.]\n",
            " [105.]\n",
            " [106.]\n",
            " [107.]\n",
            " [108.]\n",
            " [109.]\n",
            " [110.]\n",
            " [111.]\n",
            " [112.]\n",
            " [113.]\n",
            " [114.]\n",
            " [115.]\n",
            " [116.]\n",
            " [117.]\n",
            " [118.]\n",
            " [119.]\n",
            " [120.]\n",
            " [121.]\n",
            " [122.]\n",
            " [123.]\n",
            " [124.]\n",
            " [125.]\n",
            " [126.]\n",
            " [127.]\n",
            " [128.]\n",
            " [129.]\n",
            " [130.]\n",
            " [131.]\n",
            " [132.]\n",
            " [133.]\n",
            " [134.]\n",
            " [135.]\n",
            " [136.]\n",
            " [137.]\n",
            " [138.]\n",
            " [139.]\n",
            " [140.]\n",
            " [141.]\n",
            " [142.]\n",
            " [143.]\n",
            " [144.]\n",
            " [145.]\n",
            " [146.]\n",
            " [147.]\n",
            " [148.]\n",
            " [149.]\n",
            " [150.]\n",
            " [151.]\n",
            " [152.]\n",
            " [153.]\n",
            " [154.]\n",
            " [155.]\n",
            " [156.]\n",
            " [157.]\n",
            " [158.]\n",
            " [159.]\n",
            " [160.]\n",
            " [161.]\n",
            " [162.]\n",
            " [163.]\n",
            " [164.]\n",
            " [165.]\n",
            " [166.]\n",
            " [167.]\n",
            " [168.]\n",
            " [169.]\n",
            " [170.]\n",
            " [171.]\n",
            " [172.]\n",
            " [173.]\n",
            " [174.]\n",
            " [175.]\n",
            " [176.]\n",
            " [177.]\n",
            " [178.]\n",
            " [179.]\n",
            " [180.]\n",
            " [181.]\n",
            " [182.]\n",
            " [183.]\n",
            " [184.]\n",
            " [185.]\n",
            " [186.]\n",
            " [187.]\n",
            " [188.]\n",
            " [189.]\n",
            " [190.]\n",
            " [191.]\n",
            " [192.]\n",
            " [193.]\n",
            " [194.]\n",
            " [195.]\n",
            " [196.]\n",
            " [197.]\n",
            " [198.]\n",
            " [199.]\n",
            " [200.]]\n"
          ]
        }
      ]
    },
    {
      "cell_type": "code",
      "source": [
        "x_test=ds.iloc[200:249, 0 :1].values\n",
        "print(x_test)\n",
        "     "
      ],
      "metadata": {
        "colab": {
          "base_uri": "https://localhost:8080/"
        },
        "id": "469yvApFP6nm",
        "outputId": "7c2e01b1-5d17-4451-a495-f345acb73acc"
      },
      "execution_count": 14,
      "outputs": [
        {
          "output_type": "stream",
          "name": "stdout",
          "text": [
            "[[201.]\n",
            " [202.]\n",
            " [203.]\n",
            " [204.]\n",
            " [205.]\n",
            " [206.]\n",
            " [207.]\n",
            " [208.]\n",
            " [209.]\n",
            " [210.]\n",
            " [211.]\n",
            " [212.]\n",
            " [213.]\n",
            " [214.]\n",
            " [215.]\n",
            " [216.]\n",
            " [217.]\n",
            " [218.]\n",
            " [219.]\n",
            " [220.]\n",
            " [221.]\n",
            " [222.]\n",
            " [223.]\n",
            " [224.]\n",
            " [225.]\n",
            " [226.]\n",
            " [227.]\n",
            " [228.]\n",
            " [229.]\n",
            " [230.]\n",
            " [231.]\n",
            " [232.]\n",
            " [233.]\n",
            " [234.]\n",
            " [235.]\n",
            " [236.]\n",
            " [237.]\n",
            " [238.]\n",
            " [239.]\n",
            " [240.]\n",
            " [241.]\n",
            " [242.]\n",
            " [243.]\n",
            " [244.]\n",
            " [245.]\n",
            " [246.]\n",
            " [247.]\n",
            " [248.]\n",
            " [249.]]\n"
          ]
        }
      ]
    },
    {
      "cell_type": "code",
      "source": [
        "y_test = ds.iloc[200:249,1].values\n",
        "print(y_test)"
      ],
      "metadata": {
        "colab": {
          "base_uri": "https://localhost:8080/"
        },
        "id": "ETmyriJTQB22",
        "outputId": "a3d0a3b8-f8f8-4bb8-d7d6-dd315c887ffb"
      },
      "execution_count": 16,
      "outputs": [
        {
          "output_type": "stream",
          "name": "stdout",
          "text": [
            "[174.869995 159.25     153.440002 159.639999 154.       146.050003\n",
            " 139.339996 136.       126.370003 117.5      110.349998 120.389999\n",
            " 119.949997 118.470001 109.110001 110.510002 103.       118.959999\n",
            " 121.07     122.089996 122.559998 116.550003 125.699997 136.559998\n",
            " 127.260002 128.679993 135.869995 143.       141.910004 159.970001\n",
            " 162.429993 178.050003 164.570007 173.889999 187.330002 183.949997\n",
            " 193.009995 196.429993 196.100006 207.779999 202.229996 194.419998\n",
            " 191.940002 211.759995 210.779999 199.990005 204.990005 197.929993\n",
            " 203.910004]\n"
          ]
        }
      ]
    },
    {
      "cell_type": "code",
      "source": [
        "y_questionbank= ds.iloc[0:200,1].values\n",
        "print(y_questionbank)"
      ],
      "metadata": {
        "colab": {
          "base_uri": "https://localhost:8080/"
        },
        "id": "chkNKS6hRDUh",
        "outputId": "0880aa00-5e7b-49b2-dcf2-2f68f1c26ca2"
      },
      "execution_count": 19,
      "outputs": [
        {
          "output_type": "stream",
          "name": "stdout",
          "text": [
            "[271.670013 289.893341 290.709991 292.92334  283.033325 285.433319\n",
            " 265.176666 279.82666  283.816681 280.066681 260.203339 258.42334\n",
            " 269.666656 276.996674 291.496674 304.993347 310.       326.646667\n",
            " 336.57666  336.       355.033325 369.329987 363.723328 364.856659\n",
            " 360.383331 363.126678 378.766663 357.823334 350.796661 347.736664\n",
            " 326.799988 332.546661 327.026672 333.09668  329.676666 335.019989\n",
            " 343.333344 358.243347 338.303345 326.323334 331.809998 299.526672\n",
            " 299.993347 300.75     286.92334  301.059998 301.313324 313.006653\n",
            " 295.666656 278.816681 273.103333 265.       233.666672 257.82666\n",
            " 255.720001 249.119995 248.17334  235.666672 237.996674 218.339996\n",
            " 217.843338 207.949997 220.473328 241.083328 257.946655 251.720001\n",
            " 244.156662 243.226669 244.353333 234.       240.08667  249.339996\n",
            " 235.156662 223.166672 218.286667 220.916672 222.736664 213.433334\n",
            " 224.603333 234.503326 237.906662 237.470001 249.366669 244.483337\n",
            " 230.5      224.509995 227.       223.       230.779999 233.919998\n",
            " 242.333328 252.103333 236.846664 225.5      234.896667 240.\n",
            " 244.936661 245.       246.78334  255.106674 276.220001 272.216675\n",
            " 266.513336 263.809998 280.066681 280.700012 301.276672 294.003326\n",
            " 305.       311.       302.670013 295.       290.293335 297.066681\n",
            " 296.513336 289.416656 301.786682 311.666656 303.396667 306.\n",
            " 299.       291.91333  291.453339 297.563324 302.359985 297.429993\n",
            " 282.829987 287.869995 280.619995 272.579987 281.070007 272.679993\n",
            " 273.100006 281.299988 291.670013 300.720001 292.899994 292.23999\n",
            " 301.829987 299.609985 300.089996 306.910004 308.290009 299.859985\n",
            " 283.089996 271.829987 283.839996 283.079987 282.76001  266.149994\n",
            " 254.5      250.520004 245.009995 239.440002 233.940002 223.929993\n",
            " 220.949997 215.330002 208.300003 224.009995 210.039993 229.5\n",
            " 219.800003 208.279999 206.419998 205.820007 210.100006 219.399994\n",
            " 229.770004 225.399994 226.190002 234.050003 226.039993 211.360001\n",
            " 222.600006 208.649994 194.020004 190.779999 189.899994 186.\n",
            " 192.770004 195.880005 191.509995 183.960007 185.050003 175.850006\n",
            " 168.630005 173.570007 185.059998 179.960007 184.990005 182.429993\n",
            " 197.080002 191.779999 189.440002 181.220001 175.029999 172.199997\n",
            " 173.839996 176.100006]\n"
          ]
        }
      ]
    },
    {
      "cell_type": "code",
      "source": [
        "from sklearn.linear_model import LinearRegression\n",
        "regressor = LinearRegression()\n",
        "regressor.fit(x_questionbank, y_questionbank)"
      ],
      "metadata": {
        "colab": {
          "base_uri": "https://localhost:8080/"
        },
        "id": "oQgaic9ZRREo",
        "outputId": "4926ff62-1627-467a-f540-f428d45a2868"
      },
      "execution_count": 20,
      "outputs": [
        {
          "output_type": "execute_result",
          "data": {
            "text/plain": [
              "LinearRegression()"
            ]
          },
          "metadata": {},
          "execution_count": 20
        }
      ]
    },
    {
      "cell_type": "code",
      "source": [
        "regressor.predict(x_test)"
      ],
      "metadata": {
        "colab": {
          "base_uri": "https://localhost:8080/"
        },
        "id": "dPheTN_vR1c5",
        "outputId": "022fb66d-66d8-4b9c-e70a-a31c3291b477"
      },
      "execution_count": 21,
      "outputs": [
        {
          "output_type": "execute_result",
          "data": {
            "text/plain": [
              "array([208.11526384, 207.57939267, 207.0435215 , 206.50765033,\n",
              "       205.97177916, 205.43590799, 204.90003682, 204.36416565,\n",
              "       203.82829447, 203.2924233 , 202.75655213, 202.22068096,\n",
              "       201.68480979, 201.14893862, 200.61306745, 200.07719628,\n",
              "       199.54132511, 199.00545394, 198.46958277, 197.9337116 ,\n",
              "       197.39784043, 196.86196926, 196.32609809, 195.79022692,\n",
              "       195.25435575, 194.71848458, 194.18261341, 193.64674224,\n",
              "       193.11087107, 192.5749999 , 192.03912873, 191.50325756,\n",
              "       190.96738639, 190.43151522, 189.89564405, 189.35977288,\n",
              "       188.82390171, 188.28803054, 187.75215937, 187.21628819,\n",
              "       186.68041702, 186.14454585, 185.60867468, 185.07280351,\n",
              "       184.53693234, 184.00106117, 183.46519   , 182.92931883,\n",
              "       182.39344766])"
            ]
          },
          "metadata": {},
          "execution_count": 21
        }
      ]
    },
    {
      "cell_type": "code",
      "source": [
        "plt.scatter(x_questionbank, y_questionbank, color = 'lightblue')\n",
        "plt.scatter(x_test, y_test, color = 'blue')\n",
        "plt.plot(x_test, regressor.predict(x_test), color='red')\n",
        "plt.xlabel('Date')\n",
        "plt.ylabel('Price')"
      ],
      "metadata": {
        "colab": {
          "base_uri": "https://localhost:8080/",
          "height": 296
        },
        "id": "dAI2bFHyR5uh",
        "outputId": "1bae011e-aee2-4921-b81f-01df17984c0a"
      },
      "execution_count": 24,
      "outputs": [
        {
          "output_type": "execute_result",
          "data": {
            "text/plain": [
              "Text(0, 0.5, 'Price')"
            ]
          },
          "metadata": {},
          "execution_count": 24
        },
        {
          "output_type": "display_data",
          "data": {
            "text/plain": [
              "<Figure size 432x288 with 1 Axes>"
            ],
            "image/png": "[encoded data removed]"
          },
          "metadata": {
            "needs_background": "light"
          }
        }
      ]
    }
  ]
}